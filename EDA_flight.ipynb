{
 "cells": [
  {
   "cell_type": "markdown",
   "metadata": {},
   "source": [
    "**Exploratory Data Analysis**"
   ]
  },
  {
   "cell_type": "code",
   "execution_count": 1,
   "metadata": {},
   "outputs": [],
   "source": [
    "# Loading necesarry libaries\n",
    "import pandas as pd"
   ]
  },
  {
   "cell_type": "code",
   "execution_count": 2,
   "metadata": {},
   "outputs": [],
   "source": [
    "# Loading the dataset\n",
    "df = pd.read_csv(\"flight_data.csv\")"
   ]
  },
  {
   "cell_type": "markdown",
   "metadata": {},
   "source": [
    "First we'll need to transform the variables into the correct datatype and clean the data"
   ]
  },
  {
   "cell_type": "code",
   "execution_count": 15,
   "metadata": {},
   "outputs": [
    {
     "name": "stdout",
     "output_type": "stream",
     "text": [
      "<class 'pandas.core.frame.DataFrame'>\n",
      "RangeIndex: 900 entries, 0 to 899\n",
      "Data columns (total 10 columns):\n",
      " #   Column              Non-Null Count  Dtype \n",
      "---  ------              --------------  ----- \n",
      " 0   Search Date         900 non-null    object\n",
      " 1   Airline             900 non-null    object\n",
      " 2   Flight Number       900 non-null    int64 \n",
      " 3   Source City         900 non-null    object\n",
      " 4   Departure Time      900 non-null    object\n",
      " 5   Number of Stops     900 non-null    int64 \n",
      " 6   Arrival Time        900 non-null    object\n",
      " 7   Destination City    900 non-null    object\n",
      " 8   Duration (Minutes)  900 non-null    int64 \n",
      " 9   Price               900 non-null    object\n",
      "dtypes: int64(3), object(7)\n",
      "memory usage: 70.4+ KB\n"
     ]
    }
   ],
   "source": [
    "df.info()"
   ]
  },
  {
   "cell_type": "code",
   "execution_count": 24,
   "metadata": {},
   "outputs": [
    {
     "name": "stdout",
     "output_type": "stream",
     "text": [
      "Search Date                   object\n",
      "Airline                     category\n",
      "Flight Number               category\n",
      "Source City                 category\n",
      "Departure Time        datetime64[ns]\n",
      "Number of Stops             category\n",
      "Arrival Time          datetime64[ns]\n",
      "Destination City            category\n",
      "Duration (Minutes)             int64\n",
      "Price                        float64\n",
      "dtype: object\n"
     ]
    },
    {
     "name": "stderr",
     "output_type": "stream",
     "text": [
      "/var/folders/yk/c34vj_zs38gcc2_lmpzdbdn40000gn/T/ipykernel_3114/4029201694.py:5: FutureWarning: 'S' is deprecated and will be removed in a future version, please use 's' instead.\n",
      "  df['Departure Time'] = pd.to_datetime(df['Departure Time']).dt.floor('S')\n",
      "/var/folders/yk/c34vj_zs38gcc2_lmpzdbdn40000gn/T/ipykernel_3114/4029201694.py:6: FutureWarning: 'S' is deprecated and will be removed in a future version, please use 's' instead.\n",
      "  df['Arrival Time'] = pd.to_datetime(df['Arrival Time']).dt.floor('S')\n"
     ]
    }
   ],
   "source": [
    "# Convert columns to datetime\n",
    "df['Search Date'] = pd.to_datetime(df['Search Date']).dt.date\n",
    "df['Departure Time'] = pd.to_datetime(df['Departure Time']).dt.strftime('%Y-%m-%d %H:%M:%S')\n",
    "df['Arrival Time'] = pd.to_datetime(df['Arrival Time']).dt.strftime('%Y-%m-%d %H:%M:%S')\n",
    "df['Departure Time'] = pd.to_datetime(df['Departure Time']).dt.floor('S')\n",
    "df['Arrival Time'] = pd.to_datetime(df['Arrival Time']).dt.floor('S')\n",
    "\n",
    "\n",
    "# Convert Number of Stops to categorical\n",
    "df['Source City'] = df['Source City'].astype('category')\n",
    "df['Destination City'] = df['Source City'].astype('category')\n",
    "df['Airline'] = df['Airline'].astype('category')\n",
    "df['Flight Number'] = df['Flight Number'].astype('category')\n",
    "\n",
    "df['Number of Stops'] = df['Number of Stops'].astype('category')\n",
    "\n",
    "# Price conversion: remove the dollar sign and convert to float\n",
    "df['Price'] = df['Price'].str.replace('$', '').astype(float)\n",
    "\n",
    "# Check the new dtypes\n",
    "print(df.dtypes)\n"
   ]
  },
  {
   "cell_type": "code",
   "execution_count": null,
   "metadata": {},
   "outputs": [],
   "source": []
  }
 ],
 "metadata": {
  "kernelspec": {
   "display_name": "venv",
   "language": "python",
   "name": "python3"
  },
  "language_info": {
   "codemirror_mode": {
    "name": "ipython",
    "version": 3
   },
   "file_extension": ".py",
   "mimetype": "text/x-python",
   "name": "python",
   "nbconvert_exporter": "python",
   "pygments_lexer": "ipython3",
   "version": "3.11.5"
  }
 },
 "nbformat": 4,
 "nbformat_minor": 2
}
